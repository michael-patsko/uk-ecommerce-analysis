{
 "cells": [
  {
   "cell_type": "markdown",
   "id": "17f9f2f2-42b5-44c0-b5fc-9acfd72b2803",
   "metadata": {},
   "source": [
    "# Introduction to E-Commerce Data Analysis Project\n",
    "This notebook documents my exploration of an e-commerce dataset as part of a self-guided learning project. My goal is to develop and refine my skills in data analysis, focusing on practical application of various tools and techniques. What follows is a comprehensive record of my process, including the challenges I encounter and the insights I gain. The full repository for this project can be found at https://github.com/michael-patsko/uk-ecommerce-analysis.\n",
    "\n",
    "## Project Overview\n",
    "The focus of this analysis is the **E-Commerce Analysis - UK** dataset from **Atharva Arya** on Kaggle, at https://www.kaggle.com/datasets/atharvaarya25/e-commerce-analysis-uk/data. This dataset is licensed under the [Community Data License Agreement – Sharing, Version 1.0 (CDLA-Sharing-1.0)](https://cdla.dev/sharing-1-0/) license. More details can be found at the link provided, or in the README of the GitHub repository for this project.\n",
    "\n",
    "Through this project, I aim to enhance my data analysis capabilities and gain hands-on experience with relevant tools. Specifically, I intend to develop proficiency with Python for data analysis, improve my skills in data cleaning and preprocessing, explore various data visualisation techniques, and refine my abilities with Jupyter Notebooks, PowerBI, and SQL in the context of data analysis.\n",
    "\n",
    "### Tools and Dataset\n",
    "For this analysis, I'm planning to use:\n",
    "\n",
    "- Python: The primary programming language for data analysis\n",
    "- Pandas: For data manipulation and analysis\n",
    "- Matplotlib and Seaborn: For data visualisation\n",
    "- Jupyter Notebook: The environment for conducting and documenting the analysis\n",
    "- PowerBI: For creating interactive visualisations and dashboards\n",
    "- SQL: For database querying and data manipulation\n",
    "\n",
    "## Analysis\n",
    "With the preliminaries out of the way, I can begin the analysis.\n",
    "\n",
    "First, I begin by installing Pandas and Numpy:"
   ]
  },
  {
   "cell_type": "code",
   "execution_count": 1,
   "id": "96f1ebea-5463-42a9-9992-e6a291df826d",
   "metadata": {},
   "outputs": [],
   "source": [
    "%%capture\n",
    "%pip install pandas numpy"
   ]
  },
  {
   "cell_type": "markdown",
   "id": "e473db1b-36a5-4217-b2a1-69eef3fdf976",
   "metadata": {},
   "source": [
    "Then, I can import them as `pd` and `np`."
   ]
  },
  {
   "cell_type": "code",
   "execution_count": 2,
   "id": "133f7619-f0a9-499b-a493-d27e4ed1603d",
   "metadata": {},
   "outputs": [],
   "source": [
    "import pandas as pd\n",
    "import numpy as np"
   ]
  },
  {
   "cell_type": "markdown",
   "id": "e2881058-137a-41c6-a357-e26749e3be7b",
   "metadata": {},
   "source": [
    "When attempting to load the dataset using `pd.read_csv` with default options, I obtained the following **UnicodeDecodeError**:\n",
    "\n",
    "> `UnicodeDecodeError: 'utf-8' codec can't decode byte 0xa3 in position 79780: invalid start byte`\n",
    "\n",
    "Looking up the byte 0xa3, I could see that this corresponds to the Unicode character for the pound sign (£), indicating that there may have been an unescaped Unicode character causing the issue. In this case, I could have tried determining the encoding scheme used, or attempted to use a common encoding scheme like ISO-8859-1. Instead, I opted to use the Python codec `unicode_escape` which can gracefully handle these issues:"
   ]
  },
  {
   "cell_type": "code",
   "execution_count": 3,
   "id": "d67b2a42-0d1c-403b-a3da-5a45d5af17de",
   "metadata": {},
   "outputs": [],
   "source": [
    "df = pd.read_csv('data.csv', encoding='unicode_escape')"
   ]
  },
  {
   "cell_type": "markdown",
   "id": "00ea3e6e-e221-43e0-ac44-6abb36fd24ab",
   "metadata": {},
   "source": [
    "This code executes successfully, indicating that this has likely solved the issue."
   ]
  }
 ],
 "metadata": {
  "kernelspec": {
   "display_name": "Python 3 (ipykernel)",
   "language": "python",
   "name": "python3"
  },
  "language_info": {
   "codemirror_mode": {
    "name": "ipython",
    "version": 3
   },
   "file_extension": ".py",
   "mimetype": "text/x-python",
   "name": "python",
   "nbconvert_exporter": "python",
   "pygments_lexer": "ipython3",
   "version": "3.10.7"
  }
 },
 "nbformat": 4,
 "nbformat_minor": 5
}
